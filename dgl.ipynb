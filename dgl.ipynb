{
 "cells": [
  {
   "cell_type": "code",
   "execution_count": 1,
   "metadata": {
    "tags": []
   },
   "outputs": [],
   "source": [
    "import pandas as pd\n",
    "import numpy as np\n",
    "import torch\n",
    "from torch.utils.data import DataLoader, TensorDataset"
   ]
  },
  {
   "cell_type": "code",
   "execution_count": 2,
   "metadata": {
    "tags": []
   },
   "outputs": [],
   "source": [
    "# File paths\n",
    "lr_train_path = \"data/lr_train.csv\"\n",
    "hr_train_path = \"data/hr_train.csv\"\n",
    "lr_test_path = \"data/lr_test.csv\"\n",
    "\n",
    "# Load datasets\n",
    "lr_train = pd.read_csv(lr_train_path)\n",
    "hr_train = pd.read_csv(hr_train_path)\n",
    "lr_test = pd.read_csv(lr_test_path)\n",
    "\n",
    "# Convert to NumPy arrays\n",
    "X_train = lr_train.to_numpy(dtype=np.float32)\n",
    "y_train = hr_train.to_numpy(dtype=np.float32)\n",
    "X_test = lr_test.to_numpy(dtype=np.float32)"
   ]
  },
  {
   "cell_type": "code",
   "execution_count": 3,
   "metadata": {
    "tags": []
   },
   "outputs": [
    {
     "name": "stdout",
     "output_type": "stream",
     "text": [
      "Shape before PCA: (167, 12720)\n",
      "Shape after PCA: (167, 100)\n"
     ]
    }
   ],
   "source": [
    "# PCA (optinal cell)\n",
    "from sklearn.decomposition import PCA\n",
    "\n",
    "# Initialize PCA\n",
    "X_train = lr_train.to_numpy(dtype=np.float32)\n",
    "pca = PCA(n_components=100)\n",
    "\n",
    "print(\"Shape before PCA:\", X_train.shape)\n",
    "\n",
    "X_train = pca.fit_transform(X_train)\n",
    "\n",
    "print(\"Shape after PCA:\", X_train.shape)\n"
   ]
  },
  {
   "cell_type": "code",
   "execution_count": 4,
   "metadata": {
    "tags": []
   },
   "outputs": [
    {
     "name": "stdout",
     "output_type": "stream",
     "text": [
      "X_batch Shape: torch.Size([32, 100])\n",
      "y_batch Shape: torch.Size([32, 35778])\n"
     ]
    }
   ],
   "source": [
    "# Convert NumPy arrays to PyTorch tensors\n",
    "X_train = torch.tensor(X_train)\n",
    "y_train = torch.tensor(y_train)\n",
    "X_test = torch.tensor(X_test)\n",
    "\n",
    "# Create PyTorch Dataset\n",
    "train_dataset = TensorDataset(X_train, y_train)\n",
    "\n",
    "# Define batch size\n",
    "batch_size = 32\n",
    "\n",
    "# Create train DataLoader\n",
    "train_loader = DataLoader(train_dataset, batch_size=batch_size, shuffle=True)\n",
    "\n",
    "# Create test DataLoader (without labels)\n",
    "test_loader = DataLoader(X_test, batch_size=batch_size, shuffle=False)\n",
    "\n",
    "# Check batch size\n",
    "for batch in train_loader:\n",
    "    X_batch, y_batch = batch\n",
    "    print(\"X_batch Shape:\", X_batch.shape)\n",
    "    print(\"y_batch Shape:\", y_batch.shape)\n",
    "    break"
   ]
  },
  {
   "cell_type": "code",
   "execution_count": null,
   "metadata": {},
   "outputs": [],
   "source": []
  }
 ],
 "metadata": {
  "kernelspec": {
   "display_name": "Python 3 (ipykernel)",
   "language": "python",
   "name": "python3"
  },
  "language_info": {
   "codemirror_mode": {
    "name": "ipython",
    "version": 3
   },
   "file_extension": ".py",
   "mimetype": "text/x-python",
   "name": "python",
   "nbconvert_exporter": "python",
   "pygments_lexer": "ipython3",
   "version": "3.11.5"
  }
 },
 "nbformat": 4,
 "nbformat_minor": 4
}
